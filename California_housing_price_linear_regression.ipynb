{
  "nbformat": 4,
  "nbformat_minor": 0,
  "metadata": {
    "colab": {
      "name": "California housing price_linear regression.ipynb",
      "provenance": [],
      "collapsed_sections": [],
      "mount_file_id": "1o7zLNZz-ySXi5EmBdCaWMStUkt4JoXYm",
      "authorship_tag": "ABX9TyPE3L0RBeAzzkprJS4tpTyf",
      "include_colab_link": true
    },
    "kernelspec": {
      "name": "python3",
      "display_name": "Python 3"
    },
    "language_info": {
      "name": "python"
    }
  },
  "cells": [
    {
      "cell_type": "markdown",
      "metadata": {
        "id": "view-in-github",
        "colab_type": "text"
      },
      "source": [
        "<a href=\"https://colab.research.google.com/github/temple17/self-review/blob/main/California_housing_price_linear_regression.ipynb\" target=\"_parent\"><img src=\"https://colab.research.google.com/assets/colab-badge.svg\" alt=\"Open In Colab\"/></a>"
      ]
    },
    {
      "cell_type": "code",
      "execution_count": 43,
      "metadata": {
        "id": "DeR6Kl-BNvHC"
      },
      "outputs": [],
      "source": [
        "import pandas as pd\n",
        "import numpy as np"
      ]
    },
    {
      "cell_type": "code",
      "source": [
        "housing_trset = pd.read_csv('/content/drive/MyDrive/EDA/housing_trset.csv')\n",
        "housing_labels = pd.read_csv('/content/drive/MyDrive/EDA/housing_labels.csv')"
      ],
      "metadata": {
        "id": "fIigBWccRvTF"
      },
      "execution_count": 55,
      "outputs": []
    },
    {
      "cell_type": "code",
      "source": [
        "# housing_trset = housing_trset.to_numpy()\n",
        "# housing_labels = housing_labels.to_numpy()"
      ],
      "metadata": {
        "id": "TBOEcERaSMJD"
      },
      "execution_count": 45,
      "outputs": []
    },
    {
      "cell_type": "code",
      "source": [
        "from sklearn.linear_model import LinearRegression\n",
        "\n",
        "lin_reg = LinearRegression()\n",
        "\n",
        "lin_reg.fit(housing_trset, housing_labels)"
      ],
      "metadata": {
        "colab": {
          "base_uri": "https://localhost:8080/"
        },
        "id": "gkVdWgJFSVW4",
        "outputId": "19822205-bb0e-486c-fce2-b2259ac52e2e"
      },
      "execution_count": 56,
      "outputs": [
        {
          "output_type": "execute_result",
          "data": {
            "text/plain": [
              "LinearRegression()"
            ]
          },
          "metadata": {},
          "execution_count": 56
        }
      ]
    },
    {
      "cell_type": "code",
      "source": [
        "from sklearn.metrics import mean_squared_error\n",
        "\n",
        "housing_predictions = lin_reg.predict(housing_trset)\n",
        "lin_mse = mean_squared_error(housing_labels, housing_predictions)\n",
        "lin_rmse = np.sqrt(lin_mse)\n",
        "lin_rmse"
      ],
      "metadata": {
        "colab": {
          "base_uri": "https://localhost:8080/"
        },
        "id": "l4bC5IqYTAmD",
        "outputId": "7bbfa378-eb11-47bc-ec0f-36aa08dd1f3e"
      },
      "execution_count": 57,
      "outputs": [
        {
          "output_type": "execute_result",
          "data": {
            "text/plain": [
              "3811.358722571182"
            ]
          },
          "metadata": {},
          "execution_count": 57
        }
      ]
    },
    {
      "cell_type": "code",
      "source": [
        "from sklearn.tree import DecisionTreeRegressor\n",
        "\n",
        "tree_reg = DecisionTreeRegressor(random_state=42)\n",
        "tree_reg.fit(housing_trset, housing_labels)"
      ],
      "metadata": {
        "colab": {
          "base_uri": "https://localhost:8080/"
        },
        "id": "swUj9NByTZa-",
        "outputId": "9bb05be4-f461-4982-965d-15aac25fddeb"
      },
      "execution_count": 58,
      "outputs": [
        {
          "output_type": "execute_result",
          "data": {
            "text/plain": [
              "DecisionTreeRegressor(random_state=42)"
            ]
          },
          "metadata": {},
          "execution_count": 58
        }
      ]
    },
    {
      "cell_type": "code",
      "source": [
        "housing_predictions = tree_reg.predict(housing_trset)\n",
        "tree_mse = mean_squared_error(housing_predictions, housing_labels)\n",
        "tree_rmse = np.sqrt(tree_mse)\n",
        "tree_rmse"
      ],
      "metadata": {
        "colab": {
          "base_uri": "https://localhost:8080/"
        },
        "id": "3aG2-pSuTzI-",
        "outputId": "179dd843-1da7-46f1-cf94-e011b4269d49"
      },
      "execution_count": 59,
      "outputs": [
        {
          "output_type": "execute_result",
          "data": {
            "text/plain": [
              "0.0"
            ]
          },
          "metadata": {},
          "execution_count": 59
        }
      ]
    },
    {
      "cell_type": "markdown",
      "source": [
        "# DecisionTree Overfitting Problem\n",
        "=> Use K-fold cross_validation : validation set"
      ],
      "metadata": {
        "id": "BmTOgaSjUBNO"
      }
    },
    {
      "cell_type": "code",
      "source": [
        "from sklearn.model_selection import cross_val_score\n",
        "\n",
        "scores = cross_val_score(tree_reg, housing_trset, housing_labels,\n",
        "                         scoring = 'neg_mean_squared_error', cv = 10)\n",
        "tree_rmse_scores = np.sqrt(-scores)                        "
      ],
      "metadata": {
        "id": "JU5BVeFMUSQ3"
      },
      "execution_count": 60,
      "outputs": []
    },
    {
      "cell_type": "code",
      "source": [
        "def display_scores(scores):\n",
        "    print('Scores:', scores)\n",
        "    print('Mean:', scores.mean())\n",
        "    print('Standard deviation:', scores.std())"
      ],
      "metadata": {
        "id": "bhOILTh4VHsA"
      },
      "execution_count": 61,
      "outputs": []
    },
    {
      "cell_type": "code",
      "source": [
        "display_scores(tree_rmse_scores)"
      ],
      "metadata": {
        "colab": {
          "base_uri": "https://localhost:8080/"
        },
        "id": "wrQhWbIlVZvH",
        "outputId": "be6f4b1e-4ad6-45f5-8a6f-8e23839ec0ea"
      },
      "execution_count": 62,
      "outputs": [
        {
          "output_type": "stream",
          "name": "stdout",
          "text": [
            "Scores: [3298.45222087 3248.2288259  3221.63665024 3293.5332563  3216.89188463\n",
            " 3059.46878004 3273.29332404 3177.72117783 3150.25806934 3320.38681219]\n",
            "Mean: 3225.9871001378383\n",
            "Standard deviation: 75.73113059172952\n"
          ]
        }
      ]
    },
    {
      "cell_type": "code",
      "source": [
        "some_labels = housing_labels.iloc[:5]"
      ],
      "metadata": {
        "id": "ZU-VSswwYHvG"
      },
      "execution_count": 63,
      "outputs": []
    },
    {
      "cell_type": "code",
      "source": [
        "print(list(some_labels))"
      ],
      "metadata": {
        "colab": {
          "base_uri": "https://localhost:8080/"
        },
        "id": "zBql8QsEeXFh",
        "outputId": "c2352601-0318-4d31-8b75-57c1db6f1e25"
      },
      "execution_count": 64,
      "outputs": [
        {
          "output_type": "stream",
          "name": "stdout",
          "text": [
            "['Unnamed: 0', 'median_house_value']\n"
          ]
        }
      ]
    },
    {
      "cell_type": "code",
      "source": [
        "housing_trset.head()"
      ],
      "metadata": {
        "colab": {
          "base_uri": "https://localhost:8080/",
          "height": 270
        },
        "id": "Q82PdlZ3ew10",
        "outputId": "f2ea3733-be31-497c-c8a8-27b0c36b906d"
      },
      "execution_count": 68,
      "outputs": [
        {
          "output_type": "execute_result",
          "data": {
            "text/plain": [
              "          0         1         2         3         4         5         6  \\\n",
              "0 -1.340092  1.011573  1.882745 -0.530774 -0.496959 -0.653518 -0.501793   \n",
              "1 -1.369974  2.286917 -1.072119 -0.044358 -0.215123 -0.056208 -0.090156   \n",
              "2  0.652063 -0.766461  1.483439 -0.623535 -0.513538  0.165277 -0.460108   \n",
              "3  0.821397 -0.845588  0.764689 -0.601845 -0.655640 -0.669214 -0.582557   \n",
              "4 -0.702602  0.890555 -0.113784 -0.782289 -0.861689 -0.862795 -0.869140   \n",
              "\n",
              "          7         8         9        10        11   12   13   14   15   16  \n",
              "0 -0.126779 -0.015111 -0.256693 -0.074943  0.164979  0.0  0.0  0.0  1.0  0.0  \n",
              "1 -0.189509 -1.010325  0.017555 -0.014879 -0.649062  0.0  1.0  0.0  0.0  0.0  \n",
              "2 -1.383349 -0.785994 -0.617877  0.159394  0.689790  1.0  0.0  0.0  0.0  0.0  \n",
              "3 -0.243505  0.276520 -0.266634 -0.059439 -0.265503  1.0  0.0  0.0  0.0  0.0  \n",
              "4 -0.661894 -0.644258  0.060440 -0.037606 -0.432822  0.0  1.0  0.0  0.0  0.0  "
            ],
            "text/html": [
              "\n",
              "  <div id=\"df-52bbec2e-1cb7-4bab-a7f0-48ce70657bf1\">\n",
              "    <div class=\"colab-df-container\">\n",
              "      <div>\n",
              "<style scoped>\n",
              "    .dataframe tbody tr th:only-of-type {\n",
              "        vertical-align: middle;\n",
              "    }\n",
              "\n",
              "    .dataframe tbody tr th {\n",
              "        vertical-align: top;\n",
              "    }\n",
              "\n",
              "    .dataframe thead th {\n",
              "        text-align: right;\n",
              "    }\n",
              "</style>\n",
              "<table border=\"1\" class=\"dataframe\">\n",
              "  <thead>\n",
              "    <tr style=\"text-align: right;\">\n",
              "      <th></th>\n",
              "      <th>0</th>\n",
              "      <th>1</th>\n",
              "      <th>2</th>\n",
              "      <th>3</th>\n",
              "      <th>4</th>\n",
              "      <th>5</th>\n",
              "      <th>6</th>\n",
              "      <th>7</th>\n",
              "      <th>8</th>\n",
              "      <th>9</th>\n",
              "      <th>10</th>\n",
              "      <th>11</th>\n",
              "      <th>12</th>\n",
              "      <th>13</th>\n",
              "      <th>14</th>\n",
              "      <th>15</th>\n",
              "      <th>16</th>\n",
              "    </tr>\n",
              "  </thead>\n",
              "  <tbody>\n",
              "    <tr>\n",
              "      <th>0</th>\n",
              "      <td>-1.340092</td>\n",
              "      <td>1.011573</td>\n",
              "      <td>1.882745</td>\n",
              "      <td>-0.530774</td>\n",
              "      <td>-0.496959</td>\n",
              "      <td>-0.653518</td>\n",
              "      <td>-0.501793</td>\n",
              "      <td>-0.126779</td>\n",
              "      <td>-0.015111</td>\n",
              "      <td>-0.256693</td>\n",
              "      <td>-0.074943</td>\n",
              "      <td>0.164979</td>\n",
              "      <td>0.0</td>\n",
              "      <td>0.0</td>\n",
              "      <td>0.0</td>\n",
              "      <td>1.0</td>\n",
              "      <td>0.0</td>\n",
              "    </tr>\n",
              "    <tr>\n",
              "      <th>1</th>\n",
              "      <td>-1.369974</td>\n",
              "      <td>2.286917</td>\n",
              "      <td>-1.072119</td>\n",
              "      <td>-0.044358</td>\n",
              "      <td>-0.215123</td>\n",
              "      <td>-0.056208</td>\n",
              "      <td>-0.090156</td>\n",
              "      <td>-0.189509</td>\n",
              "      <td>-1.010325</td>\n",
              "      <td>0.017555</td>\n",
              "      <td>-0.014879</td>\n",
              "      <td>-0.649062</td>\n",
              "      <td>0.0</td>\n",
              "      <td>1.0</td>\n",
              "      <td>0.0</td>\n",
              "      <td>0.0</td>\n",
              "      <td>0.0</td>\n",
              "    </tr>\n",
              "    <tr>\n",
              "      <th>2</th>\n",
              "      <td>0.652063</td>\n",
              "      <td>-0.766461</td>\n",
              "      <td>1.483439</td>\n",
              "      <td>-0.623535</td>\n",
              "      <td>-0.513538</td>\n",
              "      <td>0.165277</td>\n",
              "      <td>-0.460108</td>\n",
              "      <td>-1.383349</td>\n",
              "      <td>-0.785994</td>\n",
              "      <td>-0.617877</td>\n",
              "      <td>0.159394</td>\n",
              "      <td>0.689790</td>\n",
              "      <td>1.0</td>\n",
              "      <td>0.0</td>\n",
              "      <td>0.0</td>\n",
              "      <td>0.0</td>\n",
              "      <td>0.0</td>\n",
              "    </tr>\n",
              "    <tr>\n",
              "      <th>3</th>\n",
              "      <td>0.821397</td>\n",
              "      <td>-0.845588</td>\n",
              "      <td>0.764689</td>\n",
              "      <td>-0.601845</td>\n",
              "      <td>-0.655640</td>\n",
              "      <td>-0.669214</td>\n",
              "      <td>-0.582557</td>\n",
              "      <td>-0.243505</td>\n",
              "      <td>0.276520</td>\n",
              "      <td>-0.266634</td>\n",
              "      <td>-0.059439</td>\n",
              "      <td>-0.265503</td>\n",
              "      <td>1.0</td>\n",
              "      <td>0.0</td>\n",
              "      <td>0.0</td>\n",
              "      <td>0.0</td>\n",
              "      <td>0.0</td>\n",
              "    </tr>\n",
              "    <tr>\n",
              "      <th>4</th>\n",
              "      <td>-0.702602</td>\n",
              "      <td>0.890555</td>\n",
              "      <td>-0.113784</td>\n",
              "      <td>-0.782289</td>\n",
              "      <td>-0.861689</td>\n",
              "      <td>-0.862795</td>\n",
              "      <td>-0.869140</td>\n",
              "      <td>-0.661894</td>\n",
              "      <td>-0.644258</td>\n",
              "      <td>0.060440</td>\n",
              "      <td>-0.037606</td>\n",
              "      <td>-0.432822</td>\n",
              "      <td>0.0</td>\n",
              "      <td>1.0</td>\n",
              "      <td>0.0</td>\n",
              "      <td>0.0</td>\n",
              "      <td>0.0</td>\n",
              "    </tr>\n",
              "  </tbody>\n",
              "</table>\n",
              "</div>\n",
              "      <button class=\"colab-df-convert\" onclick=\"convertToInteractive('df-52bbec2e-1cb7-4bab-a7f0-48ce70657bf1')\"\n",
              "              title=\"Convert this dataframe to an interactive table.\"\n",
              "              style=\"display:none;\">\n",
              "        \n",
              "  <svg xmlns=\"http://www.w3.org/2000/svg\" height=\"24px\"viewBox=\"0 0 24 24\"\n",
              "       width=\"24px\">\n",
              "    <path d=\"M0 0h24v24H0V0z\" fill=\"none\"/>\n",
              "    <path d=\"M18.56 5.44l.94 2.06.94-2.06 2.06-.94-2.06-.94-.94-2.06-.94 2.06-2.06.94zm-11 1L8.5 8.5l.94-2.06 2.06-.94-2.06-.94L8.5 2.5l-.94 2.06-2.06.94zm10 10l.94 2.06.94-2.06 2.06-.94-2.06-.94-.94-2.06-.94 2.06-2.06.94z\"/><path d=\"M17.41 7.96l-1.37-1.37c-.4-.4-.92-.59-1.43-.59-.52 0-1.04.2-1.43.59L10.3 9.45l-7.72 7.72c-.78.78-.78 2.05 0 2.83L4 21.41c.39.39.9.59 1.41.59.51 0 1.02-.2 1.41-.59l7.78-7.78 2.81-2.81c.8-.78.8-2.07 0-2.86zM5.41 20L4 18.59l7.72-7.72 1.47 1.35L5.41 20z\"/>\n",
              "  </svg>\n",
              "      </button>\n",
              "      \n",
              "  <style>\n",
              "    .colab-df-container {\n",
              "      display:flex;\n",
              "      flex-wrap:wrap;\n",
              "      gap: 12px;\n",
              "    }\n",
              "\n",
              "    .colab-df-convert {\n",
              "      background-color: #E8F0FE;\n",
              "      border: none;\n",
              "      border-radius: 50%;\n",
              "      cursor: pointer;\n",
              "      display: none;\n",
              "      fill: #1967D2;\n",
              "      height: 32px;\n",
              "      padding: 0 0 0 0;\n",
              "      width: 32px;\n",
              "    }\n",
              "\n",
              "    .colab-df-convert:hover {\n",
              "      background-color: #E2EBFA;\n",
              "      box-shadow: 0px 1px 2px rgba(60, 64, 67, 0.3), 0px 1px 3px 1px rgba(60, 64, 67, 0.15);\n",
              "      fill: #174EA6;\n",
              "    }\n",
              "\n",
              "    [theme=dark] .colab-df-convert {\n",
              "      background-color: #3B4455;\n",
              "      fill: #D2E3FC;\n",
              "    }\n",
              "\n",
              "    [theme=dark] .colab-df-convert:hover {\n",
              "      background-color: #434B5C;\n",
              "      box-shadow: 0px 1px 3px 1px rgba(0, 0, 0, 0.15);\n",
              "      filter: drop-shadow(0px 1px 2px rgba(0, 0, 0, 0.3));\n",
              "      fill: #FFFFFF;\n",
              "    }\n",
              "  </style>\n",
              "\n",
              "      <script>\n",
              "        const buttonEl =\n",
              "          document.querySelector('#df-52bbec2e-1cb7-4bab-a7f0-48ce70657bf1 button.colab-df-convert');\n",
              "        buttonEl.style.display =\n",
              "          google.colab.kernel.accessAllowed ? 'block' : 'none';\n",
              "\n",
              "        async function convertToInteractive(key) {\n",
              "          const element = document.querySelector('#df-52bbec2e-1cb7-4bab-a7f0-48ce70657bf1');\n",
              "          const dataTable =\n",
              "            await google.colab.kernel.invokeFunction('convertToInteractive',\n",
              "                                                     [key], {});\n",
              "          if (!dataTable) return;\n",
              "\n",
              "          const docLinkHtml = 'Like what you see? Visit the ' +\n",
              "            '<a target=\"_blank\" href=https://colab.research.google.com/notebooks/data_table.ipynb>data table notebook</a>'\n",
              "            + ' to learn more about interactive tables.';\n",
              "          element.innerHTML = '';\n",
              "          dataTable['output_type'] = 'display_data';\n",
              "          await google.colab.output.renderOutput(dataTable, element);\n",
              "          const docLink = document.createElement('div');\n",
              "          docLink.innerHTML = docLinkHtml;\n",
              "          element.appendChild(docLink);\n",
              "        }\n",
              "      </script>\n",
              "    </div>\n",
              "  </div>\n",
              "  "
            ]
          },
          "metadata": {},
          "execution_count": 68
        }
      ]
    },
    {
      "cell_type": "code",
      "source": [
        "lin_scores = cross_val_score(lin_reg, housing_trset, housing_labels,\n",
        "                             scoring = 'neg_mean_squared_error', cv=10)\n",
        "lin_rmse_scores = np.sqrt(-lin_scores)                             \n",
        "display_scores(lin_rmse_scores)"
      ],
      "metadata": {
        "colab": {
          "base_uri": "https://localhost:8080/"
        },
        "id": "hkMhhtTafGVo",
        "outputId": "ba55fa4b-cb8f-418e-a7b1-7be3f29a1d12"
      },
      "execution_count": 69,
      "outputs": [
        {
          "output_type": "stream",
          "name": "stdout",
          "text": [
            "Scores: [3759.12859078 3827.90707962 3923.76013318 3931.49025137 3839.74323459\n",
            " 3827.16681757 3748.57304555 3701.55009551 3700.6800582  3889.9331002 ]\n",
            "Mean: 3814.9932406552703\n",
            "Standard deviation: 80.87932409735018\n"
          ]
        }
      ]
    },
    {
      "cell_type": "code",
      "source": [
        ""
      ],
      "metadata": {
        "id": "unEIK52kgQM2"
      },
      "execution_count": null,
      "outputs": []
    }
  ]
}